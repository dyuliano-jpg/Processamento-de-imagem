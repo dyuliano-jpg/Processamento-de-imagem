{
  "cells": [
    {
      "cell_type": "markdown",
      "id": "31c1300c",
      "metadata": {
        "id": "31c1300c"
      },
      "source": [
        "# Importando libraries"
      ]
    },
    {
      "cell_type": "code",
      "execution_count": null,
      "id": "fca5a9c0",
      "metadata": {
        "id": "fca5a9c0"
      },
      "outputs": [],
      "source": [
        "import matplotlib.pyplot as plt\n",
        "%matplotlib inline\n",
        "import numpy as np\n",
        "\n",
        "import cv2 # openCV\n",
        "from skimage.morphology import disk # scikit-image\n",
        "\n",
        "from os import listdir, path, makedirs, chdir # costuma ter no pc, logo nao precisa importar\n",
        "from os.path import isfile, join # costuma ter no pc, logo nao precisa importar\n",
        "\n",
        "from datetime import datetime"
      ]
    },
    {
      "cell_type": "markdown",
      "id": "2f5e0ea5",
      "metadata": {
        "id": "2f5e0ea5"
      },
      "source": [
        "# Read images"
      ]
    },
    {
      "cell_type": "code",
      "execution_count": null,
      "id": "11146b00",
      "metadata": {
        "id": "11146b00"
      },
      "outputs": [],
      "source": [
        "# lê o caminho para as fotos\n",
        "path_exp1 = \"C:/Users/anton/Documents/Mestrado/Experimento 1\"\n",
        "path_exp2 = \"C:/Users/anton/Documents/Mestrado/Experimento 2\" # pode tirar essa linha, basta comentar ela colocando # no inicio\n",
        "paths = [path_exp1, path_exp2] # pode apagar a variavel path_exp2 desde que nao exista ela"
      ]
    },
    {
      "cell_type": "code",
      "execution_count": null,
      "id": "26de71a5",
      "metadata": {
        "id": "26de71a5"
      },
      "outputs": [],
      "source": [
        "# função que busca cada dia (pasta) do experimento\n",
        "def busca_pastas_dias(caminhos):\n",
        "    dia = []\n",
        "    for i in range(len(caminhos)):\n",
        "        dia.append([f for f in listdir(caminhos[i])])\n",
        "    return dia"
      ]
    },
    {
      "cell_type": "code",
      "execution_count": null,
      "id": "48eb997a",
      "metadata": {
        "id": "48eb997a",
        "outputId": "458f168d-82f8-49ea-e7ea-012a45a96c59",
        "colab": {
          "base_uri": "https://localhost:8080/",
          "height": 245
        }
      },
      "outputs": [
        {
          "output_type": "error",
          "ename": "FileNotFoundError",
          "evalue": "[Errno 2] No such file or directory: 'C:/Users/anton/Documents/Mestrado/Experimento 1'",
          "traceback": [
            "\u001b[0;31m---------------------------------------------------------------------------\u001b[0m",
            "\u001b[0;31mFileNotFoundError\u001b[0m                         Traceback (most recent call last)",
            "\u001b[0;32m<ipython-input-50-c83435858403>\u001b[0m in \u001b[0;36m<cell line: 1>\u001b[0;34m()\u001b[0m\n\u001b[0;32m----> 1\u001b[0;31m \u001b[0mdias\u001b[0m \u001b[0;34m=\u001b[0m \u001b[0mbusca_pastas_dias\u001b[0m\u001b[0;34m(\u001b[0m\u001b[0mpaths\u001b[0m\u001b[0;34m)\u001b[0m\u001b[0;34m\u001b[0m\u001b[0;34m\u001b[0m\u001b[0m\n\u001b[0m",
            "\u001b[0;32m<ipython-input-49-e5e373194703>\u001b[0m in \u001b[0;36mbusca_pastas_dias\u001b[0;34m(caminhos)\u001b[0m\n\u001b[1;32m      3\u001b[0m     \u001b[0mdia\u001b[0m \u001b[0;34m=\u001b[0m \u001b[0;34m[\u001b[0m\u001b[0;34m]\u001b[0m\u001b[0;34m\u001b[0m\u001b[0;34m\u001b[0m\u001b[0m\n\u001b[1;32m      4\u001b[0m     \u001b[0;32mfor\u001b[0m \u001b[0mi\u001b[0m \u001b[0;32min\u001b[0m \u001b[0mrange\u001b[0m\u001b[0;34m(\u001b[0m\u001b[0mlen\u001b[0m\u001b[0;34m(\u001b[0m\u001b[0mcaminhos\u001b[0m\u001b[0;34m)\u001b[0m\u001b[0;34m)\u001b[0m\u001b[0;34m:\u001b[0m\u001b[0;34m\u001b[0m\u001b[0;34m\u001b[0m\u001b[0m\n\u001b[0;32m----> 5\u001b[0;31m         \u001b[0mdia\u001b[0m\u001b[0;34m.\u001b[0m\u001b[0mappend\u001b[0m\u001b[0;34m(\u001b[0m\u001b[0;34m[\u001b[0m\u001b[0mf\u001b[0m \u001b[0;32mfor\u001b[0m \u001b[0mf\u001b[0m \u001b[0;32min\u001b[0m \u001b[0mlistdir\u001b[0m\u001b[0;34m(\u001b[0m\u001b[0mcaminhos\u001b[0m\u001b[0;34m[\u001b[0m\u001b[0mi\u001b[0m\u001b[0;34m]\u001b[0m\u001b[0;34m)\u001b[0m\u001b[0;34m]\u001b[0m\u001b[0;34m)\u001b[0m\u001b[0;34m\u001b[0m\u001b[0;34m\u001b[0m\u001b[0m\n\u001b[0m\u001b[1;32m      6\u001b[0m     \u001b[0;32mreturn\u001b[0m \u001b[0mdia\u001b[0m\u001b[0;34m\u001b[0m\u001b[0;34m\u001b[0m\u001b[0m\n",
            "\u001b[0;31mFileNotFoundError\u001b[0m: [Errno 2] No such file or directory: 'C:/Users/anton/Documents/Mestrado/Experimento 1'"
          ]
        }
      ],
      "source": [
        "dias = busca_pastas_dias(paths)"
      ]
    },
    {
      "cell_type": "code",
      "execution_count": null,
      "id": "e9c25676",
      "metadata": {
        "id": "e9c25676"
      },
      "outputs": [],
      "source": [
        "# for loop para buscar o caminho da foto\n",
        "path2pics = []\n",
        "for i in range(len(dias)):\n",
        "    for pastas in dias[i]:\n",
        "        pics_paths = paths[i] + '/' + pastas\n",
        "        path2pics.append([pics_paths + '/' + f for f in listdir(pics_paths)])"
      ]
    },
    {
      "cell_type": "code",
      "execution_count": null,
      "id": "edf45e79",
      "metadata": {
        "id": "edf45e79"
      },
      "outputs": [],
      "source": [
        "path2pics = np.array(path2pics, dtype = object)"
      ]
    },
    {
      "cell_type": "markdown",
      "id": "ad35524c",
      "metadata": {
        "id": "ad35524c"
      },
      "source": [
        "# Saving images"
      ]
    },
    {
      "cell_type": "code",
      "execution_count": null,
      "id": "2b5fcd5f",
      "metadata": {
        "id": "2b5fcd5f",
        "colab": {
          "base_uri": "https://localhost:8080/"
        },
        "outputId": "a52211ad-80d6-4455-f7a7-07bfebe00786"
      },
      "outputs": [
        {
          "output_type": "stream",
          "name": "stdout",
          "text": [
            "Pastas criadas com sucesso.\n"
          ]
        }
      ],
      "source": [
        "# precisa criar uma pasta onde será salvo cada imagem\n",
        "# Caso só tenha um dia de experimento, pode excluir o segundo caminho\n",
        "new_paths = [\"C:/Users/anton/Documents/Mestrado/saveexp1\",\"C:/Users/anton/Documents/Mestrado/saveexp2\"]\n",
        "\n",
        "# loop for para criar as pastas de cada dia de experimento\n",
        "for i in range(len(new_paths)):\n",
        "    for pastas in dias[i]:\n",
        "        if not path.exists(new_paths[i] + '/' + pastas + '_modified/'):\n",
        "            makedirs(new_paths[i] + '/' + pastas + '_modified/') # a função makedirs cria as novas pastas"
      ]
    },
    {
      "cell_type": "code",
      "execution_count": null,
      "id": "9817e7e3",
      "metadata": {
        "id": "9817e7e3"
      },
      "outputs": [],
      "source": [
        "def salva_img_modified(name, img, path):\n",
        "    chdir(path)\n",
        "    cv2.imwrite(name,img)"
      ]
    },
    {
      "cell_type": "markdown",
      "id": "c7080c29",
      "metadata": {
        "id": "c7080c29"
      },
      "source": [
        "# K-means"
      ]
    },
    {
      "cell_type": "code",
      "execution_count": null,
      "id": "957bc789",
      "metadata": {
        "id": "957bc789"
      },
      "outputs": [],
      "source": [
        "# Aqui é onde a mágica acontece\n",
        "def k_means(img):\n",
        "\n",
        "    img_lab = cv2.cvtColor(img, cv2.COLOR_BGR2LAB) # converte a imagem do BGR para CieLAB\n",
        "    L = img_lab[:, :, 0]\n",
        "    a = img_lab[:, :, 1]\n",
        "    b = img_lab[:, :, 2]\n",
        "\n",
        "    pixel_vals = b.flatten() # transforma o canal b em um vetor\n",
        "    pixel_vals = np.float32(pixel_vals) # converte os números para 'float32'\n",
        "\n",
        "    criteria = (cv2.TERM_CRITERIA_EPS + cv2.TERM_CRITERIA_MAX_ITER, 10, 1.0) # critérios para o kmeans do OpenCV\n",
        "\n",
        "    # Since we are interested in only actual leaf pixels, we choose 2 clusters\n",
        "    # one cluster for actual leaf pixels and other for unwanted background pixels.\n",
        "\n",
        "    K = 2 # número de clusters\n",
        "    retval, labels, centers = cv2.kmeans(pixel_vals, K, None, criteria, 10, cv2.KMEANS_PP_CENTERS) # aplica o Kmeans do OpenCV\n",
        "    centers = np.uint8(centers)\n",
        "\n",
        "    pixel_labels = labels.reshape(img_lab.shape[0], img_lab.shape[1])\n",
        "\n",
        "    (unique, counts) = np.unique(pixel_labels, return_counts=True)\n",
        "    frequencies = np.asarray((unique, counts)).T\n",
        "\n",
        "    # cria mascara de pixels\n",
        "    if frequencies[0,1] > frequencies[1,1]:\n",
        "        mask = np.where(pixel_labels, 1, 0).astype(np.uint8)\n",
        "    else:\n",
        "        mask = np.where(pixel_labels, 0, 1).astype(np.uint8)\n",
        "\n",
        "    # Aplicação de transformações morfológicas\n",
        "    #kernel_open = np.ones((5,5),np.uint8)\n",
        "    opening = cv2.morphologyEx(mask, cv2.MORPH_OPEN, disk(10), iterations = 1) # consultar a função morphologyEx caso duvida\n",
        "\n",
        "    final_img = cv2.bitwise_and(img, img, mask = opening) # junta as imagem com a mascara para resultar em img final\n",
        "\n",
        "    return final_img"
      ]
    },
    {
      "cell_type": "markdown",
      "id": "055da30b",
      "metadata": {
        "id": "055da30b"
      },
      "source": [
        "# Modifying images"
      ]
    },
    {
      "cell_type": "markdown",
      "id": "c71075fd",
      "metadata": {
        "id": "c71075fd"
      },
      "source": [
        "## Modifying exp1"
      ]
    },
    {
      "cell_type": "code",
      "execution_count": null,
      "id": "4a0fb66a",
      "metadata": {
        "id": "4a0fb66a",
        "outputId": "9ce1be85-5369-47d0-9548-cc91b41d4e55",
        "colab": {
          "base_uri": "https://localhost:8080/",
          "height": 211
        }
      },
      "outputs": [
        {
          "output_type": "error",
          "ename": "IndexError",
          "evalue": "index 0 is out of bounds for axis 0 with size 0",
          "traceback": [
            "\u001b[0;31m---------------------------------------------------------------------------\u001b[0m",
            "\u001b[0;31mIndexError\u001b[0m                                Traceback (most recent call last)",
            "\u001b[0;32m<ipython-input-61-92f9bb735e61>\u001b[0m in \u001b[0;36m<cell line: 2>\u001b[0;34m()\u001b[0m\n\u001b[1;32m      1\u001b[0m \u001b[0mfinal_start\u001b[0m\u001b[0;34m=\u001b[0m\u001b[0mdatetime\u001b[0m\u001b[0;34m.\u001b[0m\u001b[0mnow\u001b[0m\u001b[0;34m(\u001b[0m\u001b[0;34m)\u001b[0m\u001b[0;34m\u001b[0m\u001b[0;34m\u001b[0m\u001b[0m\n\u001b[1;32m      2\u001b[0m \u001b[0;32mfor\u001b[0m \u001b[0mi\u001b[0m \u001b[0;32min\u001b[0m \u001b[0mrange\u001b[0m\u001b[0;34m(\u001b[0m\u001b[0;36m2\u001b[0m\u001b[0;34m)\u001b[0m\u001b[0;34m:\u001b[0m \u001b[0;31m# caso seja necessário, alterar o valor dentro do 'range' se der o erro 'index out of range'\u001b[0m\u001b[0;34m\u001b[0m\u001b[0;34m\u001b[0m\u001b[0m\n\u001b[0;32m----> 3\u001b[0;31m     \u001b[0;32mfor\u001b[0m \u001b[0mj\u001b[0m \u001b[0;32min\u001b[0m \u001b[0mrange\u001b[0m\u001b[0;34m(\u001b[0m\u001b[0mlen\u001b[0m\u001b[0;34m(\u001b[0m\u001b[0mpath2pics\u001b[0m\u001b[0;34m[\u001b[0m\u001b[0mi\u001b[0m\u001b[0;34m]\u001b[0m\u001b[0;34m[\u001b[0m\u001b[0;34m:\u001b[0m\u001b[0;34m]\u001b[0m\u001b[0;34m)\u001b[0m\u001b[0;34m)\u001b[0m\u001b[0;34m:\u001b[0m\u001b[0;34m\u001b[0m\u001b[0;34m\u001b[0m\u001b[0m\n\u001b[0m\u001b[1;32m      4\u001b[0m         \u001b[0mcaminho\u001b[0m \u001b[0;34m=\u001b[0m \u001b[0mpath2pics\u001b[0m\u001b[0;34m[\u001b[0m\u001b[0mi\u001b[0m\u001b[0;34m]\u001b[0m\u001b[0;34m[\u001b[0m\u001b[0mj\u001b[0m\u001b[0;34m]\u001b[0m\u001b[0;34m\u001b[0m\u001b[0;34m\u001b[0m\u001b[0m\n\u001b[1;32m      5\u001b[0m \u001b[0;34m\u001b[0m\u001b[0m\n",
            "\u001b[0;31mIndexError\u001b[0m: index 0 is out of bounds for axis 0 with size 0"
          ]
        }
      ],
      "source": [
        "final_start=datetime.now()\n",
        "for i in range(2): # caso seja necessário, alterar o valor dentro do 'range' se der o erro 'index out of range'\n",
        "    for j in range(len(path2pics[i][:])):\n",
        "        caminho = path2pics[i][j]\n",
        "\n",
        "        img_name = listdir(paths[0] + '/' + dias[0][i])[j]\n",
        "\n",
        "        img = cv2.imread(caminho, 1)\n",
        "\n",
        "        img_preprocessed = k_means(img)\n",
        "\n",
        "        salva_img_modified(img_name, img_preprocessed, new_paths[0] + '/' + dias[0][i] + '_modified')\n",
        "\n",
        "final_end=datetime.now()\n",
        "\n",
        "print('tempo de execução do pré-processamento: ', final_end-final_start)"
      ]
    },
    {
      "cell_type": "markdown",
      "id": "31faf9df",
      "metadata": {
        "id": "31faf9df"
      },
      "source": [
        "## Modifying exp2"
      ]
    },
    {
      "cell_type": "code",
      "execution_count": null,
      "id": "41440ba3",
      "metadata": {
        "id": "41440ba3",
        "colab": {
          "base_uri": "https://localhost:8080/",
          "height": 211
        },
        "outputId": "bf8485e2-d4e0-422a-8c20-7a2105811dc0"
      },
      "outputs": [
        {
          "output_type": "error",
          "ename": "IndexError",
          "evalue": "list index out of range",
          "traceback": [
            "\u001b[0;31m---------------------------------------------------------------------------\u001b[0m",
            "\u001b[0;31mIndexError\u001b[0m                                Traceback (most recent call last)",
            "\u001b[0;32m<ipython-input-63-cad2adebe418>\u001b[0m in \u001b[0;36m<cell line: 2>\u001b[0;34m()\u001b[0m\n\u001b[1;32m      1\u001b[0m \u001b[0mfinal_start\u001b[0m\u001b[0;34m=\u001b[0m\u001b[0mdatetime\u001b[0m\u001b[0;34m.\u001b[0m\u001b[0mnow\u001b[0m\u001b[0;34m(\u001b[0m\u001b[0;34m)\u001b[0m\u001b[0;34m\u001b[0m\u001b[0;34m\u001b[0m\u001b[0m\n\u001b[1;32m      2\u001b[0m \u001b[0;32mfor\u001b[0m \u001b[0mi\u001b[0m \u001b[0;32min\u001b[0m \u001b[0mrange\u001b[0m\u001b[0;34m(\u001b[0m\u001b[0;36m3\u001b[0m\u001b[0;34m)\u001b[0m\u001b[0;34m:\u001b[0m \u001b[0;31m# caso seja necessário, alterar o valor dentro do 'range' se der o erro 'index out of range'\u001b[0m\u001b[0;34m\u001b[0m\u001b[0;34m\u001b[0m\u001b[0m\n\u001b[0;32m----> 3\u001b[0;31m     \u001b[0;32mfor\u001b[0m \u001b[0mj\u001b[0m \u001b[0;32min\u001b[0m \u001b[0mrange\u001b[0m\u001b[0;34m(\u001b[0m\u001b[0mlen\u001b[0m\u001b[0;34m(\u001b[0m\u001b[0mpath2pics\u001b[0m\u001b[0;34m[\u001b[0m\u001b[0mi\u001b[0m\u001b[0;34m+\u001b[0m\u001b[0;36m3\u001b[0m\u001b[0;34m]\u001b[0m\u001b[0;34m[\u001b[0m\u001b[0;34m:\u001b[0m\u001b[0;34m]\u001b[0m\u001b[0;34m)\u001b[0m\u001b[0;34m)\u001b[0m\u001b[0;34m:\u001b[0m\u001b[0;34m\u001b[0m\u001b[0;34m\u001b[0m\u001b[0m\n\u001b[0m\u001b[1;32m      4\u001b[0m         \u001b[0mcaminho\u001b[0m \u001b[0;34m=\u001b[0m \u001b[0mpath2pics\u001b[0m\u001b[0;34m[\u001b[0m\u001b[0mi\u001b[0m\u001b[0;34m+\u001b[0m\u001b[0;36m3\u001b[0m\u001b[0;34m]\u001b[0m\u001b[0;34m[\u001b[0m\u001b[0mj\u001b[0m\u001b[0;34m]\u001b[0m\u001b[0;34m\u001b[0m\u001b[0;34m\u001b[0m\u001b[0m\n\u001b[1;32m      5\u001b[0m \u001b[0;34m\u001b[0m\u001b[0m\n",
            "\u001b[0;31mIndexError\u001b[0m: list index out of range"
          ]
        }
      ],
      "source": [
        "final_start=datetime.now()\n",
        "for i in range(3): # caso seja necessário, alterar o valor dentro do 'range' se der o erro 'index out of range'\n",
        "    for j in range(len(path2pics[i+3][:])):\n",
        "        caminho = path2pics[i+3][j]\n",
        "\n",
        "        img_name = listdir(paths[1] + '/' + dias[1][i])[j]\n",
        "\n",
        "        img = cv2.imread(caminho, 1)\n",
        "\n",
        "        img_preprocessed = k_means(img)\n",
        "\n",
        "        salva_img_modified(img_name, img_preprocessed, new_paths[1] + '/' + dias[1][i] + '_modified')\n",
        "\n",
        "final_end=datetime.now()\n",
        "\n",
        "print('tempo de execução do pré-processamento: ', final_end-final_start)"
      ]
    }
  ],
  "metadata": {
    "kernelspec": {
      "display_name": "Python 3 (ipykernel)",
      "language": "python",
      "name": "python3"
    },
    "language_info": {
      "codemirror_mode": {
        "name": "ipython",
        "version": 3
      },
      "file_extension": ".py",
      "mimetype": "text/x-python",
      "name": "python",
      "nbconvert_exporter": "python",
      "pygments_lexer": "ipython3",
      "version": "3.10.9"
    },
    "colab": {
      "provenance": []
    }
  },
  "nbformat": 4,
  "nbformat_minor": 5
}